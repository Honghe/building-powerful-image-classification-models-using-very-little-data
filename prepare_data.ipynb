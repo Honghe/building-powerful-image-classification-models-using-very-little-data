{
 "cells": [
  {
   "cell_type": "code",
   "execution_count": 1,
   "metadata": {},
   "outputs": [],
   "source": [
    "import os\n",
    "from shutil import copyfile\n",
    "\n",
    "data_dir_base_origin = 'data/train'\n",
    "\n",
    "data_dir_base = 'preprocess/data'\n",
    "\n",
    "train_num = 1000\n",
    "validation_num = 400\n",
    "\n",
    "def copy_and_save_file(process=None, cls=None, src=None):\n",
    "    file_name = os.path.basename(src)\n",
    "    dst_dir = os.path.join(data_dir_base, process, cls)\n",
    "    os.makedirs(dst_dir, exist_ok=True)\n",
    "    dst = os.path.join(dst_dir, file_name)\n",
    "    copyfile(src, dst)\n",
    "\n",
    "def pass_for_split(cls=None):\n",
    "    train = 0\n",
    "    val = 0\n",
    "    for f in os.listdir(data_dir_base_origin):\n",
    "        if cls in f:\n",
    "            if train < train_num:\n",
    "                train += 1\n",
    "                copy_and_save_file('train', cls, os.path.join(data_dir_base_origin, f))\n",
    "            elif val < validation_num:\n",
    "                val += 1\n",
    "                copy_and_save_file('validation', cls, os.path.join(data_dir_base_origin, f))\n",
    "            else:\n",
    "                break\n",
    "\n",
    "pass_for_split('dog')\n",
    "pass_for_split('cat')\n"
   ]
  },
  {
   "cell_type": "code",
   "execution_count": null,
   "metadata": {},
   "outputs": [],
   "source": []
  }
 ],
 "metadata": {
  "kernelspec": {
   "display_name": "Python 3",
   "language": "python",
   "name": "python3"
  },
  "language_info": {
   "codemirror_mode": {
    "name": "ipython",
    "version": 3
   },
   "file_extension": ".py",
   "mimetype": "text/x-python",
   "name": "python",
   "nbconvert_exporter": "python",
   "pygments_lexer": "ipython3",
   "version": "3.6.6"
  }
 },
 "nbformat": 4,
 "nbformat_minor": 2
}
